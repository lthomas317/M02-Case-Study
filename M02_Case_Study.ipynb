{
 "cells": [
  {
   "cell_type": "code",
   "execution_count": null,
   "metadata": {},
   "outputs": [],
   "source": [
    "student1 = 3.0\n",
    "student2 = 3.24\n",
    "student3 = 3.35\n",
    "student4 = 3.51\n",
    "student5 = 3.75\n",
    "ZZZ = 0\n",
    "\n",
    "name = input('Enter your name or ZZZ to quit: ')\n",
    "if (name == 0):\n",
    "    print('End of program.')\n",
    "elif ((name < 3.25) and (name > 0)):\n",
    "    print('You have not made the Deans List or Honor Roll.')\n",
    "elif ((name >= 3.25) and (name < 3.5)):\n",
    "    print('You have made the Honor Roll.')\n",
    "elif (name >= 3.5):\n",
    "    print('You have made the Deans List.')"
   ]
  }
 ],
 "metadata": {
  "language_info": {
   "name": "python"
  },
  "orig_nbformat": 4
 },
 "nbformat": 4,
 "nbformat_minor": 2
}
